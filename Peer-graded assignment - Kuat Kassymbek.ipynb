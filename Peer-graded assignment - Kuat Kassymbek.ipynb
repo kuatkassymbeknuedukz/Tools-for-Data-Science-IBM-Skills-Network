{
 "cells": [
  {
   "cell_type": "markdown",
   "id": "36de5128-336c-49ea-9f9a-4638375c1372",
   "metadata": {
    "tags": []
   },
   "source": [
    "### Peer-graded assignment - Kuat Kassymbek"
   ]
  },
  {
   "cell_type": "markdown",
   "id": "46cb9a17-a2cd-4a03-8664-5296e14220ed",
   "metadata": {},
   "source": [
    "##### Introduction"
   ]
  },
  {
   "cell_type": "markdown",
   "id": "bd75f110-d547-4b39-bb5a-e67bd4aa9dd0",
   "metadata": {},
   "source": [
    "### Exercise 3\n",
    "Data science languages:\n",
    " - Python\n",
    " - R\n",
    " - SQL\n",
    " - Julia\n",
    " - SAS\n",
    " - Scala\n",
    " - MATLAB\n",
    " - C/C+\n",
    " - etc."
   ]
  },
  {
   "cell_type": "markdown",
   "id": "1ae06ff9-c88a-4a7b-b411-8c4828b2eaab",
   "metadata": {},
   "source": [
    "### Exercise 4\n",
    "Data science libraries:\n",
    "\n",
    "###### Python libraries:\n",
    "- TensorFlow.\n",
    "- NumPy.\n",
    "- SciPy.\n",
    "- Pandas.\n",
    "- Matplotlib.\n",
    "- Keras.\n",
    "- SciKit-Learn.\n",
    "- PyTorch\n",
    "\n",
    "###### R libraries:\n",
    "- dplyr\n",
    "- tidyr\n",
    "- ggplot2\n",
    "- tidyverse\n",
    "- Shiny\n",
    "- sqldf\n",
    "- Prophet"
   ]
  },
  {
   "cell_type": "markdown",
   "id": "4599218f-8542-4846-89e0-10ac060c869b",
   "metadata": {},
   "source": [
    "### Exercise 5\n",
    "Data science tools:\n",
    " - Rstudio\n",
    " - Jupyter notebook\n",
    " - Apache spark\n",
    " - Watson studio\n",
    " - Microsoft Azure machine learning"
   ]
  },
  {
   "cell_type": "code",
   "execution_count": null,
   "id": "b873c093-e0c7-4258-ae07-ea976ef20fe2",
   "metadata": {},
   "outputs": [],
   "source": []
  },
  {
   "cell_type": "markdown",
   "id": "242a456f-03e5-477a-a9cc-64a5fb5f8331",
   "metadata": {},
   "source": [
    "### Exercise 7\n",
    "Arithmetic expression examples will be provided below to demonstrate the utility of Jupyter notebook to calculate arithmetic expressions. In particular, in the next exercise 8, multiplication and addition examples will be provided."
   ]
  },
  {
   "cell_type": "markdown",
   "id": "d98c0818-c44d-4442-8e44-259490368546",
   "metadata": {},
   "source": [
    "### Exercise 8\n"
   ]
  },
  {
   "cell_type": "code",
   "execution_count": 2,
   "id": "8768e458-96c1-48ea-9641-87360665c53a",
   "metadata": {},
   "outputs": [
    {
     "data": {
      "text/plain": [
       "10"
      ]
     },
     "execution_count": 2,
     "metadata": {},
     "output_type": "execute_result"
    }
   ],
   "source": [
    "8+2"
   ]
  },
  {
   "cell_type": "code",
   "execution_count": 3,
   "id": "268df97f-37c6-48b7-9f2e-210ca007548c",
   "metadata": {},
   "outputs": [
    {
     "data": {
      "text/plain": [
       "16"
      ]
     },
     "execution_count": 3,
     "metadata": {},
     "output_type": "execute_result"
    }
   ],
   "source": [
    "8*2"
   ]
  },
  {
   "cell_type": "markdown",
   "id": "9d25786a-1f3a-44be-bafb-432652028b8c",
   "metadata": {
    "tags": []
   },
   "source": [
    "### Exercise 9\n"
   ]
  },
  {
   "cell_type": "code",
   "execution_count": 5,
   "id": "349480b6-969a-4b2b-81e5-7fc88ce63320",
   "metadata": {},
   "outputs": [],
   "source": [
    "def minutes_to_hours (minute):\n",
    "    hour = minute // 60\n",
    "    return hour"
   ]
  },
  {
   "cell_type": "code",
   "execution_count": 11,
   "id": "ad1d5ba8-416d-4c50-ba3d-2fd04e2ed4df",
   "metadata": {},
   "outputs": [
    {
     "name": "stdout",
     "output_type": "stream",
     "text": [
      "3\n",
      "3\n",
      "2\n",
      "0\n"
     ]
    }
   ],
   "source": [
    "print(minutes_to_hours(180))\n",
    "print(minutes_to_hours(190))\n",
    "print(minutes_to_hours(120))\n",
    "print(minutes_to_hours(0))"
   ]
  },
  {
   "cell_type": "markdown",
   "id": "0fc8f2ef-e67a-42e8-b634-4440923a7d4d",
   "metadata": {
    "tags": []
   },
   "source": [
    "### Exercise 10\n",
    "This is the introductory sentence for the following list:\n",
    "- Item A (1)\n",
    "- Item B (2)\n",
    "- Item C (3)\n",
    "- Item D (4)\n",
    "- Item E (5)\n",
    "- Item F (6)\n",
    "- Item G (7)\n",
    "- Item H (8)\n",
    "- Item I (9)\n",
    "- Item J (10)\n",
    "\n"
   ]
  },
  {
   "cell_type": "markdown",
   "id": "ff873119-71d2-49fc-9a6c-11b13d1ef22b",
   "metadata": {
    "tags": []
   },
   "source": [
    "### Exercise 11\n",
    "Author’s name - Kuat Kassymbek\n",
    "\n"
   ]
  },
  {
   "cell_type": "code",
   "execution_count": null,
   "id": "2961a337-1b4c-4cc9-bad8-e9ad6e67dacc",
   "metadata": {},
   "outputs": [],
   "source": []
  },
  {
   "cell_type": "code",
   "execution_count": null,
   "id": "0b7daf0e-9634-4fb9-b637-f5ac2210e80e",
   "metadata": {},
   "outputs": [],
   "source": []
  }
 ],
 "metadata": {
  "kernelspec": {
   "display_name": "Python",
   "language": "python",
   "name": "conda-env-python-py"
  },
  "language_info": {
   "codemirror_mode": {
    "name": "ipython",
    "version": 3
   },
   "file_extension": ".py",
   "mimetype": "text/x-python",
   "name": "python",
   "nbconvert_exporter": "python",
   "pygments_lexer": "ipython3",
   "version": "3.7.12"
  }
 },
 "nbformat": 4,
 "nbformat_minor": 5
}
